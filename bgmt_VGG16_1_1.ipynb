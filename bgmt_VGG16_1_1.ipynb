{
 "cells": [
  {
   "cell_type": "code",
   "execution_count": 14,
   "metadata": {},
   "outputs": [],
   "source": [
    "import keras\n",
    "from keras.preprocessing import image\n",
    "from keras.layers import GlobalAveragePooling2D, Dense, Dropout ,Input\n",
    "from keras.models import Model, load_model\n",
    "from keras import optimizers \n",
    "from keras.callbacks import TensorBoard,ModelCheckpoint\n",
    "import argparse\n",
    "from time import time\n",
    "from keras.models import Sequential\n",
    "from keras.layers import Dense, Activation, Flatten\n",
    "from keras.layers.convolutional import ZeroPadding2D\n",
    "from keras import metrics\n",
    "from keras import optimizers\n",
    "from keras.preprocessing.image import ImageDataGenerator\n",
    "import tensorflow as tf"
   ]
  },
  {
   "cell_type": "code",
   "execution_count": 2,
   "metadata": {},
   "outputs": [],
   "source": [
    "vgg16_model = keras.applications.vgg16.VGG16(input_shape=(224,224,3))"
   ]
  },
  {
   "cell_type": "code",
   "execution_count": 3,
   "metadata": {},
   "outputs": [],
   "source": [
    "model = Sequential()\n",
    "model.add(ZeroPadding2D((1,1),input_shape=(224,224,3)))\n",
    "for layer in vgg16_model.layers[1:-3]:\n",
    "  model.add(layer)"
   ]
  },
  {
   "cell_type": "code",
   "execution_count": 4,
   "metadata": {},
   "outputs": [],
   "source": [
    "for layer in model.layers:\n",
    "  layer.trainable = False"
   ]
  },
  {
   "cell_type": "code",
   "execution_count": 5,
   "metadata": {},
   "outputs": [],
   "source": [
    "model.add(Dense(4,activation='softmax'))"
   ]
  },
  {
   "cell_type": "code",
   "execution_count": 6,
   "metadata": {},
   "outputs": [
    {
     "name": "stdout",
     "output_type": "stream",
     "text": [
      "_________________________________________________________________\n",
      "Layer (type)                 Output Shape              Param #   \n",
      "=================================================================\n",
      "zero_padding2d_1 (ZeroPaddin (None, 226, 226, 3)       0         \n",
      "_________________________________________________________________\n",
      "block1_conv1 (Conv2D)        multiple                  1792      \n",
      "_________________________________________________________________\n",
      "block1_conv2 (Conv2D)        multiple                  36928     \n",
      "_________________________________________________________________\n",
      "block1_pool (MaxPooling2D)   multiple                  0         \n",
      "_________________________________________________________________\n",
      "block2_conv1 (Conv2D)        multiple                  73856     \n",
      "_________________________________________________________________\n",
      "block2_conv2 (Conv2D)        multiple                  147584    \n",
      "_________________________________________________________________\n",
      "block2_pool (MaxPooling2D)   (None, 56, 56, 128)       0         \n",
      "_________________________________________________________________\n",
      "block3_conv1 (Conv2D)        (None, 56, 56, 256)       295168    \n",
      "_________________________________________________________________\n",
      "block3_conv2 (Conv2D)        (None, 56, 56, 256)       590080    \n",
      "_________________________________________________________________\n",
      "block3_conv3 (Conv2D)        (None, 56, 56, 256)       590080    \n",
      "_________________________________________________________________\n",
      "block3_pool (MaxPooling2D)   (None, 28, 28, 256)       0         \n",
      "_________________________________________________________________\n",
      "block4_conv1 (Conv2D)        (None, 28, 28, 512)       1180160   \n",
      "_________________________________________________________________\n",
      "block4_conv2 (Conv2D)        (None, 28, 28, 512)       2359808   \n",
      "_________________________________________________________________\n",
      "block4_conv3 (Conv2D)        (None, 28, 28, 512)       2359808   \n",
      "_________________________________________________________________\n",
      "block4_pool (MaxPooling2D)   (None, 14, 14, 512)       0         \n",
      "_________________________________________________________________\n",
      "block5_conv1 (Conv2D)        (None, 14, 14, 512)       2359808   \n",
      "_________________________________________________________________\n",
      "block5_conv2 (Conv2D)        (None, 14, 14, 512)       2359808   \n",
      "_________________________________________________________________\n",
      "block5_conv3 (Conv2D)        (None, 14, 14, 512)       2359808   \n",
      "_________________________________________________________________\n",
      "block5_pool (MaxPooling2D)   (None, 7, 7, 512)         0         \n",
      "_________________________________________________________________\n",
      "flatten (Flatten)            (None, 25088)             0         \n",
      "_________________________________________________________________\n",
      "dense_1 (Dense)              (None, 4)                 100356    \n",
      "=================================================================\n",
      "Total params: 14,815,044\n",
      "Trainable params: 100,356\n",
      "Non-trainable params: 14,714,688\n",
      "_________________________________________________________________\n"
     ]
    }
   ],
   "source": [
    "model.summary()"
   ]
  },
  {
   "cell_type": "code",
   "execution_count": 7,
   "metadata": {},
   "outputs": [],
   "source": [
    "model.compile(optimizer = 'rmsprop',loss = 'categorical_crossentropy',metrics=['accuracy'])"
   ]
  },
  {
   "cell_type": "code",
   "execution_count": 8,
   "metadata": {},
   "outputs": [],
   "source": [
    "train_path = '/home/dj/Desktop/Datasets/at_200x/train'\n",
    "test_path = '/home/dj/Desktop/Datasets/at_200x/val'"
   ]
  },
  {
   "cell_type": "code",
   "execution_count": 15,
   "metadata": {},
   "outputs": [],
   "source": [
    "# Define a Callback class that stops training once accuracy reaches 99.9%\n",
    "class myCallback(tf.keras.callbacks.Callback):\n",
    "  def on_epoch_end(self, epoch, logs={}):\n",
    "    if(logs.get('val_acc')>0.98):\n",
    "      print(\"\\nReached 98% accuracy so cancelling training!\")\n",
    "      self.model.stop_training = True\n",
    "\n",
    "      "
   ]
  },
  {
   "cell_type": "code",
   "execution_count": 16,
   "metadata": {},
   "outputs": [
    {
     "name": "stdout",
     "output_type": "stream",
     "text": [
      "Found 948 images belonging to 4 classes.\n",
      "Found 80 images belonging to 4 classes.\n"
     ]
    }
   ],
   "source": [
    "train_batches = ImageDataGenerator(rescale=1./255).flow_from_directory(train_path,target_size=(224,224),shuffle=True,class_mode = 'categorical',batch_size = 20)\n",
    "test_batches = ImageDataGenerator(rescale=1./255).flow_from_directory(test_path,target_size=(224,224),shuffle=True,class_mode = 'categorical',batch_size = 20)"
   ]
  },
  {
   "cell_type": "code",
   "execution_count": 17,
   "metadata": {},
   "outputs": [
    {
     "name": "stdout",
     "output_type": "stream",
     "text": [
      "Epoch 1/40\n",
      "10/10 [==============================] - 12s 1s/step - loss: 0.0365 - acc: 0.9900 - val_loss: 0.1123 - val_acc: 0.9480\n",
      "Epoch 2/40\n",
      "10/10 [==============================] - 11s 1s/step - loss: 0.0234 - acc: 0.9900 - val_loss: 0.0554 - val_acc: 0.9750\n",
      "Epoch 3/40\n",
      "10/10 [==============================] - 11s 1s/step - loss: 0.0813 - acc: 0.9750 - val_loss: 0.1762 - val_acc: 0.9360\n",
      "Epoch 4/40\n",
      "10/10 [==============================] - 11s 1s/step - loss: 0.1503 - acc: 0.9450 - val_loss: 0.2376 - val_acc: 0.9140\n",
      "Epoch 5/40\n",
      "10/10 [==============================] - 11s 1s/step - loss: 0.0324 - acc: 0.9849 - val_loss: 0.0532 - val_acc: 0.9760\n",
      "Epoch 6/40\n",
      "10/10 [==============================] - 11s 1s/step - loss: 0.0485 - acc: 0.9850 - val_loss: 0.1410 - val_acc: 0.9490\n",
      "Epoch 7/40\n",
      "10/10 [==============================] - 11s 1s/step - loss: 0.0146 - acc: 0.9950 - val_loss: 0.0482 - val_acc: 0.9880\n",
      "Epoch 8/40\n",
      "10/10 [==============================] - 11s 1s/step - loss: 0.1516 - acc: 0.9500 - val_loss: 0.0695 - val_acc: 0.9630\n",
      "Epoch 9/40\n",
      "10/10 [==============================] - 11s 1s/step - loss: 0.0075 - acc: 1.0000 - val_loss: 0.0937 - val_acc: 0.9500\n",
      "Epoch 10/40\n",
      "10/10 [==============================] - 11s 1s/step - loss: 0.0031 - acc: 1.0000 - val_loss: 0.0493 - val_acc: 0.9880\n",
      "Epoch 11/40\n",
      "10/10 [==============================] - 11s 1s/step - loss: 0.0051 - acc: 1.0000 - val_loss: 0.0552 - val_acc: 0.9880\n",
      "Epoch 12/40\n",
      "10/10 [==============================] - 11s 1s/step - loss: 0.0151 - acc: 0.9950 - val_loss: 0.2043 - val_acc: 0.9490\n",
      "Epoch 13/40\n",
      "10/10 [==============================] - 11s 1s/step - loss: 0.1012 - acc: 0.9700 - val_loss: 0.1067 - val_acc: 0.9750\n",
      "Epoch 14/40\n",
      "10/10 [==============================] - 11s 1s/step - loss: 0.0112 - acc: 1.0000 - val_loss: 0.0830 - val_acc: 0.9870\n",
      "Epoch 15/40\n",
      "10/10 [==============================] - 11s 1s/step - loss: 0.0055 - acc: 1.0000 - val_loss: 0.1197 - val_acc: 0.9510\n",
      "Epoch 16/40\n",
      "10/10 [==============================] - 12s 1s/step - loss: 0.0032 - acc: 1.0000 - val_loss: 0.0838 - val_acc: 0.9750\n",
      "Epoch 17/40\n",
      "10/10 [==============================] - 12s 1s/step - loss: 0.0101 - acc: 0.9950 - val_loss: 0.0847 - val_acc: 0.9640\n",
      "Epoch 18/40\n",
      "10/10 [==============================] - 12s 1s/step - loss: 0.0234 - acc: 0.9900 - val_loss: 0.1093 - val_acc: 0.9360\n",
      "Epoch 19/40\n",
      "10/10 [==============================] - 11s 1s/step - loss: 0.0034 - acc: 1.0000 - val_loss: 0.0811 - val_acc: 0.9750\n",
      "Epoch 20/40\n",
      "10/10 [==============================] - 11s 1s/step - loss: 0.0128 - acc: 0.9950 - val_loss: 0.4168 - val_acc: 0.8380\n",
      "Epoch 21/40\n",
      "10/10 [==============================] - 11s 1s/step - loss: 0.0048 - acc: 1.0000 - val_loss: 0.0814 - val_acc: 0.9740\n",
      "Epoch 22/40\n",
      "10/10 [==============================] - 11s 1s/step - loss: 0.0875 - acc: 0.9850 - val_loss: 0.3286 - val_acc: 0.9120\n",
      "Epoch 23/40\n",
      "10/10 [==============================] - 11s 1s/step - loss: 0.0083 - acc: 1.0000 - val_loss: 0.0694 - val_acc: 0.9740\n",
      "Epoch 24/40\n",
      "10/10 [==============================] - 11s 1s/step - loss: 9.0024e-04 - acc: 1.0000 - val_loss: 0.0700 - val_acc: 0.9750\n",
      "Epoch 25/40\n",
      "10/10 [==============================] - 11s 1s/step - loss: 4.6298e-04 - acc: 1.0000 - val_loss: 0.0740 - val_acc: 0.9740\n",
      "Epoch 26/40\n",
      "10/10 [==============================] - 11s 1s/step - loss: 0.0105 - acc: 1.0000 - val_loss: 0.0619 - val_acc: 0.9880\n",
      "Epoch 27/40\n",
      "10/10 [==============================] - 11s 1s/step - loss: 0.0015 - acc: 1.0000 - val_loss: 0.1274 - val_acc: 0.9380\n",
      "Epoch 28/40\n",
      "10/10 [==============================] - 11s 1s/step - loss: 9.3549e-04 - acc: 1.0000 - val_loss: 0.0931 - val_acc: 0.9500\n",
      "Epoch 29/40\n",
      "10/10 [==============================] - 11s 1s/step - loss: 0.0274 - acc: 0.9899 - val_loss: 0.0939 - val_acc: 0.9880\n",
      "Epoch 30/40\n",
      "10/10 [==============================] - 11s 1s/step - loss: 0.0010 - acc: 1.0000 - val_loss: 0.0884 - val_acc: 0.9740\n",
      "Epoch 31/40\n",
      "10/10 [==============================] - 11s 1s/step - loss: 4.2517e-04 - acc: 1.0000 - val_loss: 0.0817 - val_acc: 0.9750\n",
      "Epoch 32/40\n",
      "10/10 [==============================] - 11s 1s/step - loss: 6.8507e-04 - acc: 1.0000 - val_loss: 0.0978 - val_acc: 0.9620\n",
      "Epoch 33/40\n",
      "10/10 [==============================] - 11s 1s/step - loss: 2.8109e-04 - acc: 1.0000 - val_loss: 0.0969 - val_acc: 0.9740\n",
      "Epoch 34/40\n",
      "10/10 [==============================] - 11s 1s/step - loss: 0.0046 - acc: 1.0000 - val_loss: 0.0730 - val_acc: 0.9760\n",
      "Epoch 35/40\n",
      "10/10 [==============================] - 11s 1s/step - loss: 0.0306 - acc: 0.9900 - val_loss: 0.1499 - val_acc: 0.9870\n",
      "Epoch 36/40\n",
      "10/10 [==============================] - 12s 1s/step - loss: 0.0016 - acc: 1.0000 - val_loss: 0.0907 - val_acc: 0.9750\n",
      "Epoch 37/40\n",
      "10/10 [==============================] - 12s 1s/step - loss: 4.2154e-04 - acc: 1.0000 - val_loss: 0.0711 - val_acc: 0.9760\n",
      "Epoch 38/40\n",
      "10/10 [==============================] - 12s 1s/step - loss: 2.7892e-04 - acc: 1.0000 - val_loss: 0.0844 - val_acc: 0.9740\n",
      "Epoch 39/40\n",
      "10/10 [==============================] - 12s 1s/step - loss: 1.7672e-04 - acc: 1.0000 - val_loss: 0.0821 - val_acc: 0.9760\n",
      "Epoch 40/40\n",
      "10/10 [==============================] - 11s 1s/step - loss: 1.9089e-04 - acc: 1.0000 - val_loss: 0.0768 - val_acc: 0.9610\n"
     ]
    },
    {
     "data": {
      "text/plain": [
       "<keras.callbacks.History at 0x7f09409e2990>"
      ]
     },
     "execution_count": 17,
     "metadata": {},
     "output_type": "execute_result"
    }
   ],
   "source": [
    "callbacks = myCallback()\n",
    "model.fit_generator(train_batches,steps_per_epoch=10,validation_data = test_batches,epochs=40,validation_steps=50,verbose=1,callbacks=[callbacks])"
   ]
  },
  {
   "cell_type": "code",
   "execution_count": 18,
   "metadata": {},
   "outputs": [],
   "source": [
    "model.save('bgmt_1_0.96(200x).h5')"
   ]
  },
  {
   "cell_type": "code",
   "execution_count": 40,
   "metadata": {},
   "outputs": [
    {
     "name": "stdout",
     "output_type": "stream",
     "text": [
      "[[  3.27414200e-05   2.55344480e-01   1.96115058e-02   7.25011289e-01]]\n",
      "turning\n"
     ]
    }
   ],
   "source": [
    "import numpy as np\n",
    "from keras.preprocessing import image\n",
    "\n",
    " \n",
    "# predicting images\n",
    "path = '/home/dj/Desktop/testing_folder/turning_200x1.jpg'\n",
    "img = image.load_img(path, target_size=(224,224,3))\n",
    "x = image.img_to_array(img)\n",
    "x = np.expand_dims(x, axis=0)\n",
    "images = np.vstack([x])/255\n",
    "classes = model.predict(images, batch_size=10)\n",
    "print(classes)\n",
    "categ = ['buffing','grinding','milling','turning']\n",
    "print(categ[np.argmax(classes)])"
   ]
  },
  {
   "cell_type": "code",
   "execution_count": 45,
   "metadata": {},
   "outputs": [],
   "source": [
    "from keras.models import load_model"
   ]
  },
  {
   "cell_type": "code",
   "execution_count": 46,
   "metadata": {},
   "outputs": [],
   "source": [
    "new = load_model('bgmt_1_0.96(200x).h5')"
   ]
  },
  {
   "cell_type": "code",
   "execution_count": 85,
   "metadata": {},
   "outputs": [
    {
     "data": {
      "text/plain": [
       "'2.2.4'"
      ]
     },
     "execution_count": 85,
     "metadata": {},
     "output_type": "execute_result"
    }
   ],
   "source": [
    "keras.__version__\n"
   ]
  },
  {
   "cell_type": "code",
   "execution_count": 61,
   "metadata": {},
   "outputs": [
    {
     "name": "stdout",
     "output_type": "stream",
     "text": [
      "[[  1.00000000e+00   5.64410367e-12   5.73530201e-09   1.56116483e-12]]\n",
      "buffing\n"
     ]
    }
   ],
   "source": [
    "import numpy as np\n",
    "from keras.preprocessing import image\n",
    "\n",
    " \n",
    "# predicting images\n",
    "path = '/home/dj/Desktop/Datasets/23-05-19/500x/buffing@500x/buffing_500x2.jpg'\n",
    "img = image.load_img(path, target_size=(224,224,3))\n",
    "x = image.img_to_array(img)\n",
    "x = np.expand_dims(x, axis=0)\n",
    "images = np.vstack([x])/255\n",
    "classes = new.predict(images, batch_size=10)\n",
    "print(classes)\n",
    "categ = ['buffing','grinding','milling','turning']\n",
    "print(categ[np.argmax(classes)])"
   ]
  },
  {
   "cell_type": "code",
   "execution_count": null,
   "metadata": {},
   "outputs": [],
   "source": []
  },
  {
   "cell_type": "code",
   "execution_count": null,
   "metadata": {},
   "outputs": [],
   "source": []
  },
  {
   "cell_type": "code",
   "execution_count": null,
   "metadata": {},
   "outputs": [],
   "source": []
  },
  {
   "cell_type": "code",
   "execution_count": null,
   "metadata": {},
   "outputs": [],
   "source": []
  },
  {
   "cell_type": "code",
   "execution_count": null,
   "metadata": {},
   "outputs": [],
   "source": []
  },
  {
   "cell_type": "code",
   "execution_count": null,
   "metadata": {},
   "outputs": [],
   "source": []
  }
 ],
 "metadata": {
  "kernelspec": {
   "display_name": "Python 2",
   "language": "python",
   "name": "python2"
  },
  "language_info": {
   "codemirror_mode": {
    "name": "ipython",
    "version": 2
   },
   "file_extension": ".py",
   "mimetype": "text/x-python",
   "name": "python",
   "nbconvert_exporter": "python",
   "pygments_lexer": "ipython2",
   "version": "2.7.15rc1"
  }
 },
 "nbformat": 4,
 "nbformat_minor": 2
}
